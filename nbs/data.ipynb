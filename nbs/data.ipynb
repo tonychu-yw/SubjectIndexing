{
 "cells": [
  {
   "cell_type": "markdown",
   "source": [
    "# Setup"
   ],
   "metadata": {}
  },
  {
   "cell_type": "code",
   "execution_count": null,
   "source": [
    "cd .."
   ],
   "outputs": [],
   "metadata": {}
  },
  {
   "cell_type": "code",
   "execution_count": null,
   "source": [
    "import sys\r\n",
    "sys.path.append('../src')\r\n",
    "import pandas as pd\r\n",
    "from utils.data import *"
   ],
   "outputs": [],
   "metadata": {
    "id": "O1Ul0WdFYInV"
   }
  },
  {
   "cell_type": "markdown",
   "source": [
    "# Clean data"
   ],
   "metadata": {
    "id": "b01wgPGzlcch"
   }
  },
  {
   "cell_type": "code",
   "execution_count": null,
   "source": [
    "# combine book txt files to a json (warning: may have MemoryError)\r\n",
    "clean_books(\r\n",
    "    \"data/raw/text\",                          # folder directory where the TXT books are stored\r\n",
    "    \"data/interim/text.json\",                 # output file directory (.json)\r\n",
    "    n_tokens = 8000                           # extract first n tokens with .split() tokenization\r\n",
    ")"
   ],
   "outputs": [],
   "metadata": {
    "id": "LSK0OeY3YSZ7"
   }
  },
  {
   "cell_type": "code",
   "execution_count": null,
   "source": [
    "# extract required metadata (e.g., title, subjects) from the raw data\r\n",
    "extract_metadata(\r\n",
    "    \"data/raw/metadata\",                      # folder directory where the metadata RDF files are stored\r\n",
    "    \"data/interim/metadata.json\"              # output file directory (.json)\r\n",
    ")"
   ],
   "outputs": [],
   "metadata": {
    "id": "Si_6oGDuZZhR"
   }
  },
  {
   "cell_type": "code",
   "execution_count": null,
   "source": [
    "# remove metadata not in the downloaded books and remove suffix in subjects (words after --) \r\n",
    "clean_metadata(\r\n",
    "    \"data/interim/metadata.json\",             # input file directory for metadata (.json)\r\n",
    "    \"data/raw/text\",                          # folder directory where the text files are stored\r\n",
    "    \"data/interim/metadata.json\"              # output file directory (.json)\r\n",
    ")"
   ],
   "outputs": [],
   "metadata": {
    "id": "NcDcYCcHZ787"
   }
  },
  {
   "cell_type": "markdown",
   "source": [
    "# Combine text and metadata"
   ],
   "metadata": {
    "id": "sOLNF4YYlccj"
   }
  },
  {
   "cell_type": "code",
   "execution_count": null,
   "source": [
    "# import book texts and metadata\r\n",
    "text = pd.read_json(\"data/interim/text.json\", typ=\"series\")\r\n",
    "text = pd.DataFrame({\"id\": text.index, \"text\": text})\r\n",
    "metadata = pd.read_json(\"data/interim/metadata.json\")"
   ],
   "outputs": [],
   "metadata": {
    "id": "blP_-Yx4mAm7"
   }
  },
  {
   "cell_type": "code",
   "execution_count": null,
   "source": [
    "# merge text and metadata\r\n",
    "dataset = pd.merge(metadata, text, how=\"left\", left_on='id', right_on='id', sort=True)\r\n",
    "dataset.head()"
   ],
   "outputs": [],
   "metadata": {
    "id": "xl_BpBZ0rHex"
   }
  },
  {
   "cell_type": "code",
   "execution_count": null,
   "source": [
    "# save dataset as json\r\n",
    "dataset.to_json(\"data/interim/dataset.json\")"
   ],
   "outputs": [],
   "metadata": {
    "id": "c5pDFBkslcck"
   }
  }
 ],
 "metadata": {
  "colab": {
   "collapsed_sections": [],
   "machine_shape": "hm",
   "name": "dataset.ipynb",
   "private_outputs": true,
   "provenance": []
  },
  "kernelspec": {
   "name": "python3",
   "display_name": "Python 3.8.5 64-bit ('base': conda)"
  },
  "language_info": {
   "codemirror_mode": {
    "name": "ipython",
    "version": 3
   },
   "file_extension": ".py",
   "mimetype": "text/x-python",
   "name": "python",
   "nbconvert_exporter": "python",
   "pygments_lexer": "ipython3",
   "version": "3.8.5"
  },
  "interpreter": {
   "hash": "0d8bf6801b9e0c14e5026b6134fd4f1a5633696379168a96ecf2f6cc9392dd51"
  }
 },
 "nbformat": 4,
 "nbformat_minor": 1
}